{
 "cells": [
  {
   "cell_type": "code",
   "execution_count": 57,
   "metadata": {
    "collapsed": false
   },
   "outputs": [],
   "source": [
    "import pandas as pd\n",
    "import numpy as np\n",
    "import matplotlib.pyplot as plt\n",
    "import statsmodels\n",
    "import statsmodels.api as sm # import statsmodels \n",
    "from statsmodels.stats.outliers_influence import variance_inflation_factor\n",
    "import scipy.stats as stats\n",
    "import itertools\n",
    "\n",
    "%matplotlib inline"
   ]
  },
  {
   "cell_type": "code",
   "execution_count": 2,
   "metadata": {
    "collapsed": false
   },
   "outputs": [
    {
     "data": {
      "text/plain": [
       "(19772, 16)"
      ]
     },
     "execution_count": 2,
     "metadata": {},
     "output_type": "execute_result"
    }
   ],
   "source": [
    "df = pd.read_csv(\"USvideos.csv\")\n",
    "df.shape"
   ]
  },
  {
   "cell_type": "code",
   "execution_count": 3,
   "metadata": {
    "collapsed": true
   },
   "outputs": [],
   "source": [
    "def make_null_count_df(df):\n",
    "    feature_name = []\n",
    "    feature_null_count = []\n",
    "    for i in df.columns:\n",
    "        feature_name.append(i)\n",
    "        feature_null_count.append(sum(df[i].isnull()))\n",
    "\n",
    "    feature_name = pd.Series(feature_name)\n",
    "    feature_null_count = pd.Series(feature_null_count)\n",
    "    null_count_df = pd.concat([feature_name, feature_null_count], axis = 1)\n",
    "    null_count_df.columns = ['feature_name', 'null_count']\n",
    "    print(\"Generating plot showing distribution of nulls among all variables\")\n",
    "    plt.plot(np.sort(null_count_df.null_count))\n",
    "    plt.title(\"Null Count over # of Variables\")\n",
    "    plt.xlabel(\"Number of Variables\")\n",
    "    plt.ylabel(\"Count of Nulls\")\n",
    "    return null_count_df"
   ]
  },
  {
   "cell_type": "code",
   "execution_count": 7,
   "metadata": {
    "collapsed": false
   },
   "outputs": [
    {
     "name": "stdout",
     "output_type": "stream",
     "text": [
      "Generating plot showing distribution of nulls among all variables\n"
     ]
    },
    {
     "data": {
      "text/html": [
       "<div>\n",
       "<style>\n",
       "    .dataframe thead tr:only-child th {\n",
       "        text-align: right;\n",
       "    }\n",
       "\n",
       "    .dataframe thead th {\n",
       "        text-align: left;\n",
       "    }\n",
       "\n",
       "    .dataframe tbody tr th {\n",
       "        vertical-align: top;\n",
       "    }\n",
       "</style>\n",
       "<table border=\"1\" class=\"dataframe\">\n",
       "  <thead>\n",
       "    <tr style=\"text-align: right;\">\n",
       "      <th></th>\n",
       "      <th>feature_name</th>\n",
       "      <th>null_count</th>\n",
       "    </tr>\n",
       "  </thead>\n",
       "  <tbody>\n",
       "    <tr>\n",
       "      <th>0</th>\n",
       "      <td>video_id</td>\n",
       "      <td>0</td>\n",
       "    </tr>\n",
       "    <tr>\n",
       "      <th>1</th>\n",
       "      <td>trending_date</td>\n",
       "      <td>0</td>\n",
       "    </tr>\n",
       "    <tr>\n",
       "      <th>2</th>\n",
       "      <td>title</td>\n",
       "      <td>0</td>\n",
       "    </tr>\n",
       "    <tr>\n",
       "      <th>3</th>\n",
       "      <td>channel_title</td>\n",
       "      <td>0</td>\n",
       "    </tr>\n",
       "    <tr>\n",
       "      <th>4</th>\n",
       "      <td>category_id</td>\n",
       "      <td>0</td>\n",
       "    </tr>\n",
       "    <tr>\n",
       "      <th>5</th>\n",
       "      <td>publish_time</td>\n",
       "      <td>0</td>\n",
       "    </tr>\n",
       "    <tr>\n",
       "      <th>6</th>\n",
       "      <td>tags</td>\n",
       "      <td>0</td>\n",
       "    </tr>\n",
       "    <tr>\n",
       "      <th>7</th>\n",
       "      <td>views</td>\n",
       "      <td>0</td>\n",
       "    </tr>\n",
       "    <tr>\n",
       "      <th>8</th>\n",
       "      <td>likes</td>\n",
       "      <td>0</td>\n",
       "    </tr>\n",
       "    <tr>\n",
       "      <th>9</th>\n",
       "      <td>dislikes</td>\n",
       "      <td>0</td>\n",
       "    </tr>\n",
       "    <tr>\n",
       "      <th>10</th>\n",
       "      <td>comment_count</td>\n",
       "      <td>0</td>\n",
       "    </tr>\n",
       "    <tr>\n",
       "      <th>11</th>\n",
       "      <td>thumbnail_link</td>\n",
       "      <td>0</td>\n",
       "    </tr>\n",
       "    <tr>\n",
       "      <th>12</th>\n",
       "      <td>comments_disabled</td>\n",
       "      <td>0</td>\n",
       "    </tr>\n",
       "    <tr>\n",
       "      <th>13</th>\n",
       "      <td>ratings_disabled</td>\n",
       "      <td>0</td>\n",
       "    </tr>\n",
       "    <tr>\n",
       "      <th>14</th>\n",
       "      <td>video_error_or_removed</td>\n",
       "      <td>0</td>\n",
       "    </tr>\n",
       "    <tr>\n",
       "      <th>15</th>\n",
       "      <td>description</td>\n",
       "      <td>364</td>\n",
       "    </tr>\n",
       "  </tbody>\n",
       "</table>\n",
       "</div>"
      ],
      "text/plain": [
       "              feature_name  null_count\n",
       "0                 video_id           0\n",
       "1            trending_date           0\n",
       "2                    title           0\n",
       "3            channel_title           0\n",
       "4              category_id           0\n",
       "5             publish_time           0\n",
       "6                     tags           0\n",
       "7                    views           0\n",
       "8                    likes           0\n",
       "9                 dislikes           0\n",
       "10           comment_count           0\n",
       "11          thumbnail_link           0\n",
       "12       comments_disabled           0\n",
       "13        ratings_disabled           0\n",
       "14  video_error_or_removed           0\n",
       "15             description         364"
      ]
     },
     "execution_count": 7,
     "metadata": {},
     "output_type": "execute_result"
    }
   ],
   "source": [
    "make_null_count_df(df)"
   ]
  },
  {
   "cell_type": "code",
   "execution_count": 8,
   "metadata": {
    "collapsed": true
   },
   "outputs": [],
   "source": [
    "#THE THOR\n",
    "# outcome \n",
    "# n number of variables \n",
    "# normalized residuals \n",
    "# no correlation (vif < 0.5)\n",
    "# best adjusted R2 "
   ]
  },
  {
   "cell_type": "code",
   "execution_count": 17,
   "metadata": {
    "collapsed": false
   },
   "outputs": [
    {
     "data": {
      "text/plain": [
       "(array([1.9525e+04, 1.7400e+02, 4.0000e+01, 1.6000e+01, 2.0000e+00,\n",
       "        6.0000e+00, 5.0000e+00, 1.0000e+00, 1.0000e+00, 2.0000e+00]),\n",
       " array([5.49000000e+02, 1.49381068e+07, 2.98756646e+07, 4.48132224e+07,\n",
       "        5.97507802e+07, 7.46883380e+07, 8.96258958e+07, 1.04563454e+08,\n",
       "        1.19501011e+08, 1.34438569e+08, 1.49376127e+08]),\n",
       " <a list of 10 Patch objects>)"
      ]
     },
     "execution_count": 17,
     "metadata": {},
     "output_type": "execute_result"
    },
    {
     "data": {
      "image/png": "[encoded data removed]",
      "text/plain": [
       "<matplotlib.figure.Figure at 0x1178aa358>"
      ]
     },
     "metadata": {},
     "output_type": "display_data"
    }
   ],
   "source": [
    "plt.figure(figsize=(12,8))\n",
    "plt.hist(df[\"views\"])"
   ]
  },
  {
   "cell_type": "code",
   "execution_count": 44,
   "metadata": {
    "collapsed": false
   },
   "outputs": [
    {
     "data": {
      "text/html": [
       "<table class=\"simpletable\">\n",
       "<caption>OLS Regression Results</caption>\n",
       "<tr>\n",
       "  <th>Dep. Variable:</th>          <td>views</td>      <th>  R-squared:         </th>  <td>   0.771</td>  \n",
       "</tr>\n",
       "<tr>\n",
       "  <th>Model:</th>                   <td>OLS</td>       <th>  Adj. R-squared:    </th>  <td>   0.771</td>  \n",
       "</tr>\n",
       "<tr>\n",
       "  <th>Method:</th>             <td>Least Squares</td>  <th>  F-statistic:       </th>  <td>2.222e+04</td> \n",
       "</tr>\n",
       "<tr>\n",
       "  <th>Date:</th>             <td>Fri, 23 Feb 2018</td> <th>  Prob (F-statistic):</th>   <td>  0.00</td>   \n",
       "</tr>\n",
       "<tr>\n",
       "  <th>Time:</th>                 <td>23:35:42</td>     <th>  Log-Likelihood:    </th> <td>-3.1649e+05</td>\n",
       "</tr>\n",
       "<tr>\n",
       "  <th>No. Observations:</th>      <td> 19772</td>      <th>  AIC:               </th>  <td>6.330e+05</td> \n",
       "</tr>\n",
       "<tr>\n",
       "  <th>Df Residuals:</th>          <td> 19769</td>      <th>  BIC:               </th>  <td>6.330e+05</td> \n",
       "</tr>\n",
       "<tr>\n",
       "  <th>Df Model:</th>              <td>     3</td>      <th>                     </th>      <td> </td>     \n",
       "</tr>\n",
       "<tr>\n",
       "  <th>Covariance Type:</th>      <td>nonrobust</td>    <th>                     </th>      <td> </td>     \n",
       "</tr>\n",
       "</table>\n",
       "<table class=\"simpletable\">\n",
       "<tr>\n",
       "        <td></td>           <th>coef</th>     <th>std err</th>      <th>t</th>      <th>P>|t|</th>  <th>[0.025</th>    <th>0.975]</th>  \n",
       "</tr>\n",
       "<tr>\n",
       "  <th>dislikes</th>      <td>   62.7014</td> <td>    0.821</td> <td>   76.367</td> <td> 0.000</td> <td>   61.092</td> <td>   64.311</td>\n",
       "</tr>\n",
       "<tr>\n",
       "  <th>likes</th>         <td>   29.2824</td> <td>    0.156</td> <td>  187.632</td> <td> 0.000</td> <td>   28.977</td> <td>   29.588</td>\n",
       "</tr>\n",
       "<tr>\n",
       "  <th>comment_count</th> <td>  -75.3080</td> <td>    1.161</td> <td>  -64.890</td> <td> 0.000</td> <td>  -77.583</td> <td>  -73.033</td>\n",
       "</tr>\n",
       "</table>\n",
       "<table class=\"simpletable\">\n",
       "<tr>\n",
       "  <th>Omnibus:</th>       <td>30017.678</td> <th>  Durbin-Watson:     </th>   <td>   1.929</td>  \n",
       "</tr>\n",
       "<tr>\n",
       "  <th>Prob(Omnibus):</th>  <td> 0.000</td>   <th>  Jarque-Bera (JB):  </th> <td>28608276.085</td>\n",
       "</tr>\n",
       "<tr>\n",
       "  <th>Skew:</th>           <td> 9.208</td>   <th>  Prob(JB):          </th>   <td>    0.00</td>  \n",
       "</tr>\n",
       "<tr>\n",
       "  <th>Kurtosis:</th>       <td>188.436</td>  <th>  Cond. No.          </th>   <td>    14.0</td>  \n",
       "</tr>\n",
       "</table>"
      ],
      "text/plain": [
       "<class 'statsmodels.iolib.summary.Summary'>\n",
       "\"\"\"\n",
       "                            OLS Regression Results                            \n",
       "==============================================================================\n",
       "Dep. Variable:                  views   R-squared:                       0.771\n",
       "Model:                            OLS   Adj. R-squared:                  0.771\n",
       "Method:                 Least Squares   F-statistic:                 2.222e+04\n",
       "Date:                Fri, 23 Feb 2018   Prob (F-statistic):               0.00\n",
       "Time:                        23:35:42   Log-Likelihood:            -3.1649e+05\n",
       "No. Observations:               19772   AIC:                         6.330e+05\n",
       "Df Residuals:                   19769   BIC:                         6.330e+05\n",
       "Df Model:                           3                                         \n",
       "Covariance Type:            nonrobust                                         \n",
       "=================================================================================\n",
       "                    coef    std err          t      P>|t|      [0.025      0.975]\n",
       "---------------------------------------------------------------------------------\n",
       "dislikes         62.7014      0.821     76.367      0.000      61.092      64.311\n",
       "likes            29.2824      0.156    187.632      0.000      28.977      29.588\n",
       "comment_count   -75.3080      1.161    -64.890      0.000     -77.583     -73.033\n",
       "==============================================================================\n",
       "Omnibus:                    30017.678   Durbin-Watson:                   1.929\n",
       "Prob(Omnibus):                  0.000   Jarque-Bera (JB):         28608276.085\n",
       "Skew:                           9.208   Prob(JB):                         0.00\n",
       "Kurtosis:                     188.436   Cond. No.                         14.0\n",
       "==============================================================================\n",
       "\n",
       "Warnings:\n",
       "[1] Standard Errors assume that the covariance matrix of the errors is correctly specified.\n",
       "\"\"\""
      ]
     },
     "execution_count": 44,
     "metadata": {},
     "output_type": "execute_result"
    }
   ],
   "source": [
    "X = df[[\"dislikes\",\"likes\",\"comment_count\"]]\n",
    "y = df[\"views\"]\n",
    "model = sm.OLS(y, X).fit()\n",
    "predictions = model.predict(X)\n",
    "model.summary()"
   ]
  },
  {
   "cell_type": "code",
   "execution_count": 45,
   "metadata": {
    "collapsed": true
   },
   "outputs": [],
   "source": [
    "# For each X, calculate VIF and save in dataframe\n",
    "vif = pd.DataFrame()\n",
    "vif[\"VIF Factor\"] = [variance_inflation_factor(X.values, i) for i in range(X.shape[1])]\n",
    "vif[\"features\"] = X.columns"
   ]
  },
  {
   "cell_type": "code",
   "execution_count": 78,
   "metadata": {
    "collapsed": false
   },
   "outputs": [
    {
     "data": {
      "text/plain": [
       "[6.820893234964102]"
      ]
     },
     "execution_count": 78,
     "metadata": {},
     "output_type": "execute_result"
    }
   ],
   "source": [
    "[s for s in [variance_inflation_factor(X.values, i) for i in range(X.shape[1])] if s > 5]"
   ]
  },
  {
   "cell_type": "code",
   "execution_count": 46,
   "metadata": {
    "collapsed": false
   },
   "outputs": [
    {
     "data": {
      "text/html": [
       "<div>\n",
       "<style>\n",
       "    .dataframe thead tr:only-child th {\n",
       "        text-align: right;\n",
       "    }\n",
       "\n",
       "    .dataframe thead th {\n",
       "        text-align: left;\n",
       "    }\n",
       "\n",
       "    .dataframe tbody tr th {\n",
       "        vertical-align: top;\n",
       "    }\n",
       "</style>\n",
       "<table border=\"1\" class=\"dataframe\">\n",
       "  <thead>\n",
       "    <tr style=\"text-align: right;\">\n",
       "      <th></th>\n",
       "      <th>VIF Factor</th>\n",
       "      <th>features</th>\n",
       "    </tr>\n",
       "  </thead>\n",
       "  <tbody>\n",
       "    <tr>\n",
       "      <th>0</th>\n",
       "      <td>4.3</td>\n",
       "      <td>dislikes</td>\n",
       "    </tr>\n",
       "    <tr>\n",
       "      <th>1</th>\n",
       "      <td>2.4</td>\n",
       "      <td>likes</td>\n",
       "    </tr>\n",
       "    <tr>\n",
       "      <th>2</th>\n",
       "      <td>6.8</td>\n",
       "      <td>comment_count</td>\n",
       "    </tr>\n",
       "  </tbody>\n",
       "</table>\n",
       "</div>"
      ],
      "text/plain": [
       "   VIF Factor       features\n",
       "0         4.3       dislikes\n",
       "1         2.4          likes\n",
       "2         6.8  comment_count"
      ]
     },
     "execution_count": 46,
     "metadata": {},
     "output_type": "execute_result"
    }
   ],
   "source": [
    "vif.round(1)"
   ]
  },
  {
   "cell_type": "code",
   "execution_count": 56,
   "metadata": {
    "collapsed": false
   },
   "outputs": [
    {
     "name": "stdout",
     "output_type": "stream",
     "text": [
      "0.0\n"
     ]
    }
   ],
   "source": [
    "#test normalcy \n",
    "print(stats.normaltest(model.resid)[1])"
   ]
  },
  {
   "cell_type": "code",
   "execution_count": 72,
   "metadata": {
    "collapsed": false
   },
   "outputs": [],
   "source": [
    "stuff = [\"dislikes\",\"likes\",\"comment_count\"]\n",
    "lst = []\n",
    "for L in range(0, len(stuff)+1):    \n",
    "    for subset in itertools.combinations(stuff, L):\n",
    "        lst.append([s for s in subset])"
   ]
  },
  {
   "cell_type": "code",
   "execution_count": 73,
   "metadata": {
    "collapsed": false
   },
   "outputs": [
    {
     "data": {
      "text/plain": [
       "[[],\n",
       " ['dislikes'],\n",
       " ['likes'],\n",
       " ['comment_count'],\n",
       " ['dislikes', 'likes'],\n",
       " ['dislikes', 'comment_count'],\n",
       " ['likes', 'comment_count'],\n",
       " ['dislikes', 'likes', 'comment_count']]"
      ]
     },
     "execution_count": 73,
     "metadata": {},
     "output_type": "execute_result"
    }
   ],
   "source": [
    "lst"
   ]
  },
  {
   "cell_type": "code",
   "execution_count": 83,
   "metadata": {
    "collapsed": false
   },
   "outputs": [
    {
     "name": "stdout",
     "output_type": "stream",
     "text": [
      "[]\n",
      "['dislikes']\n",
      "Regressing\n",
      "['likes']\n",
      "Regressing\n",
      "['comment_count']\n",
      "Regressing\n",
      "['dislikes', 'likes']\n",
      "Regressing\n",
      "['dislikes', 'comment_count']\n",
      "Regressing\n",
      "['likes', 'comment_count']\n",
      "Regressing\n",
      "['dislikes', 'likes', 'comment_count']\n",
      "Regressing\n"
     ]
    }
   ],
   "source": [
    "features_to_save = []\n",
    "for i in lst:\n",
    "    print(i)\n",
    "    if (len(i) > 0):\n",
    "        print(\"Regressing\")\n",
    "        X_subset = X[i]\n",
    "        model = sm.OLS(y, X_subset).fit()\n",
    "        p_value = stats.normaltest(model.resid)[1]\n",
    "        if (p_value > 0.5):\n",
    "            print(\"P-Value is big enough\")\n",
    "            above_5_vif = [s for s in [variance_inflation_factor(X_subset.values, i) for i in range(X_subset.shape[1])] if s > 5]\n",
    "            if (len(above_5_vif)) == 0:\n",
    "                print(\"Model passed, getting features\")\n",
    "                features_to_save.append(X_subset.columns)\n",
    "                "
   ]
  },
  {
   "cell_type": "code",
   "execution_count": 80,
   "metadata": {
    "collapsed": false
   },
   "outputs": [
    {
     "data": {
      "text/plain": [
       "[]"
      ]
     },
     "execution_count": 80,
     "metadata": {},
     "output_type": "execute_result"
    }
   ],
   "source": [
    "#this list gives you a list of all features that passed, it should be a nested loop.\n",
    "features_to_save"
   ]
  },
  {
   "cell_type": "code",
   "execution_count": null,
   "metadata": {
    "collapsed": true
   },
   "outputs": [],
   "source": []
  }
 ],
 "metadata": {
  "kernelspec": {
   "display_name": "Python [default]",
   "language": "python",
   "name": "python3"
  },
  "language_info": {
   "codemirror_mode": {
    "name": "ipython",
    "version": 3
   },
   "file_extension": ".py",
   "mimetype": "text/x-python",
   "name": "python",
   "nbconvert_exporter": "python",
   "pygments_lexer": "ipython3",
   "version": "3.5.3"
  }
 },
 "nbformat": 4,
 "nbformat_minor": 2
}
