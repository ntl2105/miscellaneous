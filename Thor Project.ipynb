{
 "cells": [
  {
   "cell_type": "code",
   "execution_count": 3,
   "metadata": {
    "collapsed": false
   },
   "outputs": [
    {
     "name": "stderr",
     "output_type": "stream",
     "text": [
      "//anaconda/lib/python3.5/site-packages/statsmodels/compat/pandas.py:56: FutureWarning: The pandas.core.datetools module is deprecated and will be removed in a future version. Please use the pandas.tseries module instead.\n",
      "  from pandas.core import datetools\n"
     ]
    }
   ],
   "source": [
    "import pandas as pd\n",
    "import numpy as np\n",
    "import statsmodels.api as sm \n",
    "from statsmodels.stats.outliers_influence import variance_inflation_factor\n",
    "import scipy.stats as stats\n",
    "import itertools\n"
   ]
  },
  {
   "cell_type": "code",
   "execution_count": 4,
   "metadata": {
    "collapsed": false
   },
   "outputs": [
    {
     "data": {
      "text/plain": [
       "(281, 22)"
      ]
     },
     "execution_count": 4,
     "metadata": {},
     "output_type": "execute_result"
    }
   ],
   "source": [
    "df = pd.read_csv(\"USvideos.csv\")\n",
    "data = pd.read_csv(\"mjollnir.csv\")\n",
    "df.shape\n",
    "data.shape"
   ]
  },
  {
   "cell_type": "code",
   "execution_count": 71,
   "metadata": {
    "collapsed": true
   },
   "outputs": [],
   "source": [
    "def get_features_combo(features):\n",
    "    print(\"Generating list_of_features\")\n",
    "    list_of_features = []\n",
    "    for L in range(0, len(features)+1):    \n",
    "        for subset in itertools.combinations(features, L):\n",
    "            list_of_features.append([s for s in subset])\n",
    "    print(\"Got list_of_features\")\n",
    "    return list_of_features \n",
    "\n",
    "def get_pvalue(X, y, list_of_features, percentile):\n",
    "    \"\"\"returns the p-value at a percentile\"\"\"\n",
    "    \"Getting all p-values\"\n",
    "    p_values = []\n",
    "    for i in list_of_features:\n",
    "        if (len(i) > 0):\n",
    "            X_subset = sm.add_constant(X[i])\n",
    "            model = sm.OLS(y, X_subset).fit()\n",
    "            residuals = model.resid\n",
    "            p_value = stats.normaltest(residuals)[1]\n",
    "            p_values.append(p_value)\n",
    "    pvalue = np.percentile(p_values, percentile)\n",
    "    print(\"Got best p-value\")\n",
    "    return p_value\n",
    "\n",
    "def get_best_models(X, y, list_of_features, coef_pvalue_threshold = 0.05, res_pvalue_threshold = 0.05):\n",
    "    print(\"Getting best models\")\n",
    "    winning_models = {}\n",
    "    #getting all possible combinations of features \n",
    "    for i in list_of_features:\n",
    "        if (len(i) > 0):\n",
    "            #adding constant to X\n",
    "            X_subset = sm.add_constant(X[i])\n",
    "            #fitting the model \n",
    "            model = sm.OLS(y, X_subset).fit()\n",
    "            # 1st condition\n",
    "            # Check if p-value of all coefficients is less than 0.05 \n",
    "            if (sum(model.pvalues < coef_pvalue_threshold) == len(model.pvalues)):\n",
    "                residuals = model.resid \n",
    "                #checking if the residuals are normal, a p-value < 0.05 means that the null hypothesis of normality of\n",
    "                #residuals is rejected \n",
    "                p_value = stats.normaltest(residuals)[1]\n",
    "                if (p_value > res_pvalue_threshold):\n",
    "                    # the number of features is 1, there is no vif score \n",
    "                    if (len(i) < 2):\n",
    "                        #storing the feature \n",
    "                        winning_features = [s for s in X_subset.columns]\n",
    "                        #storing Ajd-R2 as key, list of features as values \n",
    "                        winning_models[round(model.rsquared_adj, 3)] = winning_features\n",
    "                    else:\n",
    "                        #getting vifs if list of features is more than 1\n",
    "                        vifs = [variance_inflation_factor(X_subset.values, i) for i in range(X_subset.shape[1])]\n",
    "                        #getting vifs greater than threshold 5\n",
    "                        above_5_vif = [s for s in vifs if s > 5]\n",
    "                        # 2nd condition, if no vifs is greater than 5\n",
    "                        if (len(above_5_vif)) == 0:\n",
    "                            print(\"Model passed, getting features\")\n",
    "                            #storing the feature \n",
    "                            winning_features = [s for s in X_subset.columns]\n",
    "                            #storing Ajd-R2 as key, list of features as values \n",
    "                            winning_models[round(model.rsquared_adj,3)] = winning_features\n",
    "    return winning_models"
   ]
  },
  {
   "cell_type": "code",
   "execution_count": null,
   "metadata": {
    "collapsed": false
   },
   "outputs": [
    {
     "name": "stdout",
     "output_type": "stream",
     "text": [
      "Generating list_of_features\n",
      "Got list_of_features\n",
      "Got best p-value\n",
      "Getting best models\n",
      "Model passed, getting features\n"
     ]
    }
   ],
   "source": [
    "features  = ['Max of  likes', 'Max of Categ 2','Max of Categ 10', \n",
    "          'Max of Categ 15', 'Max of Categ 17',\n",
    "       'Max of Categ 19', 'Max of Categ 20', 'Max of Categ 22',\n",
    "       'Max of Categ 23', \n",
    "       'Max of # tags', 'Max of Views after 1 day',\n",
    "       'Max of comments after 1 day', 'Max of likes after 1 day']\n",
    "\n",
    "X = X[features]\n",
    "y = data['Max of Views after 5 days']\n",
    "coef_pvalue_threshold = 0.05\n",
    "list_of_features = get_features_combo(features) \n",
    "percentile = 25\n",
    "\n",
    "res_pvalue_threshold = get_pvalue(X, y, list_of_features, percentile)\n",
    "winning_models = get_best_models(X, y, list_of_features, coef_pvalue_threshold, res_pvalue_threshold)"
   ]
  },
  {
   "cell_type": "code",
   "execution_count": 70,
   "metadata": {
    "collapsed": false
   },
   "outputs": [
    {
     "data": {
      "text/plain": [
       "{0.544: ['const', 'Max of comments after 1 day', 'Max of likes after 1 day']}"
      ]
     },
     "execution_count": 70,
     "metadata": {},
     "output_type": "execute_result"
    }
   ],
   "source": [
    "winning_models"
   ]
  }
 ],
 "metadata": {
  "kernelspec": {
   "display_name": "Python [default]",
   "language": "python",
   "name": "python3"
  },
  "language_info": {
   "codemirror_mode": {
    "name": "ipython",
    "version": 3
   },
   "file_extension": ".py",
   "mimetype": "text/x-python",
   "name": "python",
   "nbconvert_exporter": "python",
   "pygments_lexer": "ipython3",
   "version": "3.5.3"
  }
 },
 "nbformat": 4,
 "nbformat_minor": 2
}
