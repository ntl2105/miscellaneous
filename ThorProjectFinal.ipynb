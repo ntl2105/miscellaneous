{
 "cells": [
  {
   "cell_type": "code",
   "execution_count": 1,
   "metadata": {
    "collapsed": false
   },
   "outputs": [
    {
     "name": "stderr",
     "output_type": "stream",
     "text": [
      "//anaconda/lib/python3.5/site-packages/statsmodels/compat/pandas.py:56: FutureWarning: The pandas.core.datetools module is deprecated and will be removed in a future version. Please use the pandas.tseries module instead.\n",
      "  from pandas.core import datetools\n"
     ]
    }
   ],
   "source": [
    "import pandas as pd\n",
    "import numpy as np\n",
    "import statsmodels.api as sm \n",
    "from statsmodels.stats.outliers_influence import variance_inflation_factor\n",
    "import scipy.stats as stats\n",
    "import itertools"
   ]
  },
  {
   "cell_type": "code",
   "execution_count": 2,
   "metadata": {
    "collapsed": false
   },
   "outputs": [
    {
     "data": {
      "text/plain": [
       "(281, 22)"
      ]
     },
     "execution_count": 2,
     "metadata": {},
     "output_type": "execute_result"
    }
   ],
   "source": [
    "data = pd.read_csv(\"mjollnir.csv\")\n",
    "data.shape"
   ]
  },
  {
   "cell_type": "code",
   "execution_count": 3,
   "metadata": {
    "collapsed": true
   },
   "outputs": [],
   "source": [
    "def getFeaturesCombo(features):\n",
    "    print(\"Generating list_of_features\")\n",
    "    list_of_features = []\n",
    "    for L in range(0, len(features)+1):    \n",
    "        for subset in itertools.combinations(features, L):\n",
    "            list_of_features.append([s for s in subset])\n",
    "    print(\"Got list_of_features\")\n",
    "    return list_of_features \n",
    "\n",
    "def getResidualsPvalue(X, y, list_of_features, percentile):\n",
    "    \"\"\"returns the p-value at a percentile\"\"\"\n",
    "    \"Getting all p-values\"\n",
    "    p_values = []\n",
    "    for i in list_of_features:\n",
    "        if (len(i) > 0):\n",
    "            X_subset = sm.add_constant(X[i])\n",
    "            model = sm.OLS(y, X_subset).fit()\n",
    "            residuals = model.resid\n",
    "            p_value = stats.normaltest(residuals)[1]\n",
    "            p_values.append(p_value)\n",
    "    pvalue = np.percentile(p_values, percentile)\n",
    "    print(\"Got threshold p-value fore residuals\")\n",
    "    return pvalue\n",
    "\n",
    "def getBestModels(X, y, list_of_features, \n",
    "                  coef_pvalue_threshold, \n",
    "                  res_pvalue_threshold):\n",
    "    print(\"Getting best models\")\n",
    "    winningModels = {}\n",
    "    #getting all possible combinations of features \n",
    "    for i in list_of_features:\n",
    "        if (len(i) > 0):\n",
    "            #adding constant to X\n",
    "            X_subset = sm.add_constant(X[i])\n",
    "            #fitting the model \n",
    "            model = sm.OLS(y, X_subset).fit()\n",
    "            # 1st condition\n",
    "            # Check if p-value of all coefficients is less than 0.05 \n",
    "            coeffpvalues=model.pvalues\n",
    "            coeffpvalues=coeffpvalues.drop(coeffpvalues.index[[0]])\n",
    "            if (sum(coeffpvalues < coef_pvalue_threshold) == len(coeffpvalues)):\n",
    "                residuals = model.resid \n",
    "                #checking if the residuals are normal, a p-value < 0.05 \n",
    "                #means that the null hypothesis of normality of\n",
    "                #residuals is rejected \n",
    "                p_value = stats.normaltest(residuals)[1]\n",
    "                if (p_value > res_pvalue_threshold):\n",
    "                    # the number of features is 1, there is no vif score \n",
    "                    if (len(i) < 2):\n",
    "                        #storing the feature \n",
    "                        winningFeatures = [s for s in X_subset.columns]\n",
    "                        #storing Ajd-R2 as key, list of features as values \n",
    "                        winningModels[round(model.rsquared_adj, 3)] = winningFeatures\n",
    "                    else:\n",
    "                        #getting vifs if list of features is more than 1\n",
    "                        vifs = [variance_inflation_factor(X_subset.values, i)\n",
    "                                for i in range(X_subset.shape[1])]\n",
    "                        #getting vifs greater than threshold 5\n",
    "                        above_5_vif = [s for s in vifs if s > 5]\n",
    "                        # 2nd condition, if no vifs is greater than 5\n",
    "                        if (len(above_5_vif)) == 0:\n",
    "                            print(\"Model passed, getting features\")\n",
    "                            #storing the feature \n",
    "                            winningFeatures = [s for s in X_subset.columns]\n",
    "                            #storing Ajd-R2 as key, list of features as values \n",
    "                            winningModels[round(model.rsquared_adj,3)] = winningFeatures\n",
    "    return winningModels"
   ]
  },
  {
   "cell_type": "code",
   "execution_count": 4,
   "metadata": {
    "collapsed": false
   },
   "outputs": [
    {
     "name": "stdout",
     "output_type": "stream",
     "text": [
      "Generating list_of_features\n",
      "Got list_of_features\n",
      "Got threshold p-value fore residuals\n",
      "Getting best models\n",
      "Model passed, getting features\n",
      "Model passed, getting features\n",
      "Model passed, getting features\n",
      "Model passed, getting features\n"
     ]
    }
   ],
   "source": [
    "features  = ['Max of  likes', 'Max of Categ 2','Max of Categ 10', \n",
    "          'Max of Categ 15', 'Max of Categ 17',\n",
    "       'Max of Categ 19', 'Max of Categ 20', 'Max of Categ 22',\n",
    "       'Max of Categ 23', 'Max of Categ 26','Max of Categ 24',\n",
    "       'Max of # tags', 'Max of Views after 1 day'\n",
    "       ]\n",
    "\n",
    "X = data[features]\n",
    "y = data['Max of Views after 5 days']\n",
    "coef_pvalue_threshold = 0.05\n",
    "list_of_features = getFeaturesCombo(features) \n",
    "\n",
    "percentile = 50\n",
    "res_pvalue_threshold = getResidualsPvalue(X, y, \n",
    "                                          list_of_features, \n",
    "                                          percentile)\n",
    "winningModels = getBestModels(X, y, \n",
    "                               list_of_features, \n",
    "                               coef_pvalue_threshold, \n",
    "                               res_pvalue_threshold)"
   ]
  },
  {
   "cell_type": "code",
   "execution_count": 5,
   "metadata": {
    "collapsed": false
   },
   "outputs": [
    {
     "data": {
      "text/plain": [
       "{0.745: ['const', 'Max of Views after 1 day'],\n",
       " 0.749: ['const', 'Max of # tags', 'Max of Views after 1 day'],\n",
       " 0.751: ['const', 'Max of Categ 10', 'Max of Views after 1 day'],\n",
       " 0.752: ['const',\n",
       "  'Max of Categ 26',\n",
       "  'Max of # tags',\n",
       "  'Max of Views after 1 day'],\n",
       " 0.757: ['const',\n",
       "  'Max of Categ 10',\n",
       "  'Max of # tags',\n",
       "  'Max of Views after 1 day']}"
      ]
     },
     "execution_count": 5,
     "metadata": {},
     "output_type": "execute_result"
    }
   ],
   "source": [
    "winningModels"
   ]
  },
  {
   "cell_type": "code",
   "execution_count": null,
   "metadata": {
    "collapsed": true
   },
   "outputs": [],
   "source": []
  }
 ],
 "metadata": {
  "kernelspec": {
   "display_name": "Python [default]",
   "language": "python",
   "name": "python3"
  },
  "language_info": {
   "codemirror_mode": {
    "name": "ipython",
    "version": 3
   },
   "file_extension": ".py",
   "mimetype": "text/x-python",
   "name": "python",
   "nbconvert_exporter": "python",
   "pygments_lexer": "ipython3",
   "version": "3.5.3"
  }
 },
 "nbformat": 4,
 "nbformat_minor": 2
}
